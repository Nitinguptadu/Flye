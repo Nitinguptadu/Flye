{
  "nbformat": 4,
  "nbformat_minor": 0,
  "metadata": {
    "colab": {
      "name": "Untitled4.ipynb",
      "provenance": []
    },
    "kernelspec": {
      "name": "python3",
      "display_name": "Python 3"
    },
    "accelerator": "GPU"
  },
  "cells": [
    {
      "cell_type": "code",
      "metadata": {
        "id": "wuyUwnf3QkAZ",
        "colab_type": "code",
        "outputId": "f82eb3eb-b90c-4c97-d168-4ca270782cd4",
        "colab": {
          "base_uri": "https://localhost:8080/",
          "height": 34
        }
      },
      "source": [
        "# Load the Drive helper and mount\n",
        "from google.colab import drive\n",
        "\n",
        "# This will prompt for authorization.\n",
        "drive.mount('/content/drive')"
      ],
      "execution_count": 0,
      "outputs": [
        {
          "output_type": "stream",
          "text": [
            "Drive already mounted at /content/drive; to attempt to forcibly remount, call drive.mount(\"/content/drive\", force_remount=True).\n"
          ],
          "name": "stdout"
        }
      ]
    },
    {
      "cell_type": "code",
      "metadata": {
        "id": "Ztmr4yCCQuTX",
        "colab_type": "code",
        "outputId": "60b862fe-26ed-4559-b0a1-f40a4e3b1ed7",
        "colab": {
          "base_uri": "https://localhost:8080/",
          "height": 34
        }
      },
      "source": [
        "!ls \"/content/drive/My Drive/tt\""
      ],
      "execution_count": 0,
      "outputs": [
        {
          "output_type": "stream",
          "text": [
            "Data1  model1  __pycache__  Results  Test  Yolo-Copy1.ipynb\n"
          ],
          "name": "stdout"
        }
      ]
    },
    {
      "cell_type": "code",
      "metadata": {
        "id": "aiP_3QfcQ7il",
        "colab_type": "code",
        "outputId": "2916d277-5172-4acc-9189-b5574d611e54",
        "colab": {
          "base_uri": "https://localhost:8080/",
          "height": 63
        }
      },
      "source": [
        "import numpy as np\n",
        "import os\n",
        "import tensorflow as tf\n",
        "from scipy.io import loadmat\n",
        "import cv2\n",
        "import matplotlib.pyplot as plt\n",
        "\n",
        "\n"
      ],
      "execution_count": 0,
      "outputs": [
        {
          "output_type": "display_data",
          "data": {
            "text/html": [
              "<p style=\"color: red;\">\n",
              "The default version of TensorFlow in Colab will soon switch to TensorFlow 2.x.<br>\n",
              "We recommend you <a href=\"https://www.tensorflow.org/guide/migrate\" target=\"_blank\">upgrade</a> now \n",
              "or ensure your notebook will continue to use TensorFlow 1.x via the <code>%tensorflow_version 1.x</code> magic:\n",
              "<a href=\"https://colab.research.google.com/notebooks/tensorflow_version.ipynb\" target=\"_blank\">more info</a>.</p>\n"
            ],
            "text/plain": [
              "<IPython.core.display.HTML object>"
            ]
          },
          "metadata": {
            "tags": []
          }
        }
      ]
    },
    {
      "cell_type": "code",
      "metadata": {
        "id": "bba6eA0CRCAI",
        "colab_type": "code",
        "colab": {}
      },
      "source": [
        "def decode_to_boxes(output , ht , wd):\n",
        "    #output : (x,x,1,5)\n",
        "    #x,y,h,w\n",
        "\n",
        "    img_ht = ht\n",
        "    img_wd = wd\n",
        "    threshold = 0.5\n",
        "    grid_h,grid_w = output.shape[:2]\n",
        "    final_boxes = []\n",
        "    scores = []\n",
        "\n",
        "    for i in range(grid_h):\n",
        "        for j in range(grid_w):\n",
        "            if output[i,j,0,0] > threshold:\n",
        "\n",
        "                temp = output[i,j,0,1:5]\n",
        "                \n",
        "                x_unit = ((j + (temp[0]))/grid_w)*img_wd\n",
        "                y_unit = ((i + (temp[1]))/grid_h)*img_ht\n",
        "                width = temp[2]*img_wd*1.3\n",
        "                height = temp[3]*img_ht*1.3\n",
        "                \n",
        "                final_boxes.append([x_unit - width/2,y_unit - height/2 ,x_unit + width/2,y_unit + height/2])\n",
        "                scores.append(output[i,j,0,0])\n",
        "    \n",
        "    return final_boxes,scores\n",
        "\n",
        "\n"
      ],
      "execution_count": 0,
      "outputs": []
    },
    {
      "cell_type": "code",
      "metadata": {
        "id": "N8usX3ZIRD7B",
        "colab_type": "code",
        "colab": {}
      },
      "source": [
        "def iou(box1,box2):\n",
        "\n",
        "    x1 = max(box1[0],box2[0])\n",
        "    x2 = min(box1[2],box2[2])\n",
        "    y1 = max(box1[1] ,box2[1])\n",
        "    y2 = min(box1[3],box2[3])\n",
        "    \n",
        "    inter = (x2 - x1)*(y2 - y1)\n",
        "    \n",
        "    area1 = (box1[2] - box1[0])*(box1[3] - box1[1])\n",
        "    area2 = (box2[2] - box2[0])*(box2[3] - box2[1])\n",
        "    fin_area = area1 + area2 - inter\n",
        "        \n",
        "    iou = inter/fin_area\n",
        "    \n",
        "    return iou"
      ],
      "execution_count": 0,
      "outputs": []
    },
    {
      "cell_type": "code",
      "metadata": {
        "id": "LgaGfOHdRFg9",
        "colab_type": "code",
        "colab": {}
      },
      "source": [
        "def non_max(boxes , scores , iou_num):\n",
        "\n",
        "    scores_sort = scores.argsort().tolist()\n",
        "    keep = []\n",
        "    \n",
        "    while(len(scores_sort)):\n",
        "        \n",
        "        index = scores_sort.pop()\n",
        "        keep.append(index)\n",
        "        \n",
        "        if(len(scores_sort) == 0):\n",
        "            break\n",
        "    \n",
        "        iou_res = []\n",
        "    \n",
        "        for i in scores_sort:\n",
        "            iou_res.append(iou(boxes[index] , boxes[i]))\n",
        "        \n",
        "        iou_res = np.array(iou_res)\n",
        "        filtered_indexes = set((iou_res > iou_num).nonzero()[0])\n",
        "\n",
        "        scores_sort = [v for (i,v) in enumerate(scores_sort) if i not in filtered_indexes]\n",
        "    \n",
        "    final = []\n",
        "    \n",
        "    for i in keep:\n",
        "        final.append(boxes[i])\n",
        "    \n",
        "    return final"
      ],
      "execution_count": 0,
      "outputs": []
    },
    {
      "cell_type": "code",
      "metadata": {
        "id": "xgLWbX6ARHcL",
        "colab_type": "code",
        "colab": {}
      },
      "source": [
        "def decode(output , ht , wd , iou):\n",
        "    \n",
        "    \n",
        "    boxes , scores = decode_to_boxes(output ,ht ,wd)\n",
        "    \n",
        "    \n",
        "    boxes = non_max(boxes,np.array(scores) , iou)\n",
        "    \n",
        "    \n",
        "    return boxes"
      ],
      "execution_count": 0,
      "outputs": []
    },
    {
      "cell_type": "code",
      "metadata": {
        "id": "vjAGVxPRRJCG",
        "colab_type": "code",
        "outputId": "3063975c-b711-439b-d1a9-632fa023d7d8",
        "colab": {
          "base_uri": "https://localhost:8080/",
          "height": 34
        }
      },
      "source": [
        "from keras import backend as K\n",
        "import keras\n",
        "import cv2\n",
        "\n",
        "from sklearn.model_selection import train_test_split\n",
        "from keras.callbacks import ModelCheckpoint\n",
        "from keras.optimizers import Adam\n",
        "from keras.layers import *\n",
        "from keras.applications.mobilenet_v2 import MobileNetV2\n",
        "import tensorflow as tf\n",
        "import numpy as np\n",
        "from keras.models import Model\n",
        "from keras.models import model_from_json\n",
        "import matplotlib.pyplot as plt\n",
        "import os\n",
        "\n"
      ],
      "execution_count": 0,
      "outputs": [
        {
          "output_type": "stream",
          "text": [
            "Using TensorFlow backend.\n"
          ],
          "name": "stderr"
        }
      ]
    },
    {
      "cell_type": "code",
      "metadata": {
        "id": "xjrhba0oRNF2",
        "colab_type": "code",
        "colab": {}
      },
      "source": [
        "#Variable Definition\n",
        "img_w = 512\n",
        "img_h = 512\n",
        "channels = 3\n",
        "classes = 1\n",
        "info = 5\n",
        "grid_w = 16\n",
        "grid_h = 16"
      ],
      "execution_count": 0,
      "outputs": []
    },
    {
      "cell_type": "code",
      "metadata": {
        "id": "jZSnQzpoROzD",
        "colab_type": "code",
        "colab": {}
      },
      "source": [
        "#import data\n",
        "#X and Y numpy arrays are created using the Prepocess.py file\n",
        "X = np.load(\"/content/drive/My Drive/tt/Data1/X.npy\")\n",
        "Y = np.load(\"/content/drive/My Drive/tt/Data1/Y.npy\")"
      ],
      "execution_count": 0,
      "outputs": []
    },
    {
      "cell_type": "code",
      "metadata": {
        "id": "ipnI78bqRYmN",
        "colab_type": "code",
        "outputId": "47d88eb1-e6d9-4429-afce-10f504b51c41",
        "colab": {
          "base_uri": "https://localhost:8080/",
          "height": 34
        }
      },
      "source": [
        "print(X.shape , Y.shape)"
      ],
      "execution_count": 0,
      "outputs": [
        {
          "output_type": "stream",
          "text": [
            "(88, 512, 512, 3) (88, 16, 16, 1, 5)\n"
          ],
          "name": "stdout"
        }
      ]
    },
    {
      "cell_type": "code",
      "metadata": {
        "id": "UnlEiPZ9RahI",
        "colab_type": "code",
        "colab": {}
      },
      "source": [
        "X_train , X_val , Y_train , Y_val  = train_test_split(X,Y,train_size = 0.90 , shuffle = True)\n",
        "X = []\n",
        "Y = []"
      ],
      "execution_count": 0,
      "outputs": []
    },
    {
      "cell_type": "code",
      "metadata": {
        "id": "b4fr8WYXRc7-",
        "colab_type": "code",
        "colab": {}
      },
      "source": [
        "#define model\n",
        "# input : 512,512,3\n",
        "# output : 16,16,1,5\n",
        "\n",
        "\n",
        "\n",
        "def save_model(model):\n",
        "    model_json = model.to_json()\n",
        "    with open(\"/content/drive/My Drive/tt/model1/text_detect_model.json\", \"w\") as json_file:\n",
        "        json_file.write(model_json)\n",
        "\n",
        "        \n",
        "        \n",
        "def load_model(strr):        \n",
        "    json_file = open(strr, 'r')\n",
        "    loaded_model_json = json_file.read()\n",
        "    json_file.close()\n",
        "    loaded_model = model_from_json(loaded_model_json)\n",
        "    return loaded_model\n",
        "    \n",
        "\n",
        "    \n",
        "    \n",
        "def yolo_model(input_shape):\n",
        "    \n",
        "    \n",
        "    inp = Input(input_shape)\n",
        "   \n",
        "    model = MobileNetV2( input_tensor= inp , include_top=False, weights='imagenet')\n",
        "    last_layer = model.output\n",
        "    \n",
        "    conv = Conv2D(512,(3,3) , activation='relu' , padding='same')(last_layer)\n",
        "    conv = Dropout(0.4)(conv)\n",
        "    bn = BatchNormalization()(conv)\n",
        "    lr = LeakyReLU(alpha=0.1)(bn)\n",
        "    \n",
        "    \n",
        "    conv = Conv2D(128,(3,3) , activation='relu' , padding='same')(lr)\n",
        "    conv = Dropout(0.4)(conv)\n",
        "    bn = BatchNormalization()(conv)\n",
        "    lr = LeakyReLU(alpha=0.1)(bn)\n",
        "    \n",
        "    \n",
        "    conv = Conv2D(5,(3,3) , activation='relu' , padding='same')(lr)\n",
        "    \n",
        "    final = Reshape((grid_h,grid_w,classes,info))(conv)\n",
        "    \n",
        "    model = Model(inp,final)\n",
        "    \n",
        "    return model\n",
        "\n"
      ],
      "execution_count": 0,
      "outputs": []
    },
    {
      "cell_type": "code",
      "metadata": {
        "id": "KjhFlfJtReb6",
        "colab_type": "code",
        "colab": {}
      },
      "source": [
        "#define utils\n",
        "\n",
        "#optimizer\n",
        "opt = Adam(lr=0.0000001, beta_1=0.9, beta_2=0.999, epsilon=1e-08, decay=0.0)\n",
        "\n",
        "#checkpoint\n",
        "checkpoint = ModelCheckpoint('/content/drive/My Drive/tt/model1/text_detect.h5', monitor='val_loss', verbose=1, save_best_only=True, mode='min',period=1)\n"
      ],
      "execution_count": 0,
      "outputs": []
    },
    {
      "cell_type": "code",
      "metadata": {
        "id": "fr0tGIvKRmbe",
        "colab_type": "code",
        "colab": {}
      },
      "source": [
        "#define loss function\n",
        "def yolo_loss_func(y_true,y_pred):\n",
        "    # y_true : 16,16,1,5\n",
        "    # y_pred : 16,16,1,5\n",
        "    l_coords = 5.0\n",
        "    l_noob = 0.5\n",
        "    coords = y_true[:,:,:,:,0] * l_coords\n",
        "    noobs = (-1*(y_true[:,:,:,:,0] - 1)*l_noob)\n",
        "    p_pred = y_pred[:,:,:,:,0]\n",
        "    p_true = y_true[:,:,:,:,0]\n",
        "    x_true = y_true[:,:,:,:,1]\n",
        "    x_pred = y_pred[:,:,:,:,1]\n",
        "    yy_true = y_true[:,:,:,:,2]\n",
        "    yy_pred = y_pred[:,:,:,:,2]\n",
        "    w_true = y_true[:,:,:,:,3]\n",
        "    w_pred = y_pred[:,:,:,:,3]\n",
        "    h_true = y_true[:,:,:,:,4]\n",
        "    h_pred = y_pred[:,:,:,:,4]\n",
        "    \n",
        "    p_loss_absent = K.sum(K.square(p_pred - p_true)*noobs)\n",
        "    p_loss_present = K.sum(K.square(p_pred - p_true))\n",
        "    x_loss = K.sum(K.square(x_pred - x_true)*coords)\n",
        "    yy_loss = K.sum(K.square(yy_pred - yy_true)*coords)\n",
        "    xy_loss = x_loss + yy_loss\n",
        "    w_loss = K.sum(K.square(K.sqrt(w_pred) - K.sqrt(w_true))*coords)\n",
        "    h_loss = K.sum(K.square(K.sqrt(h_pred) - K.sqrt(h_true))*coords)\n",
        "    wh_loss = w_loss + h_loss\n",
        "    \n",
        "    loss = p_loss_absent + p_loss_present + xy_loss + wh_loss\n",
        "    \n",
        "    return loss"
      ],
      "execution_count": 0,
      "outputs": []
    },
    {
      "cell_type": "code",
      "metadata": {
        "id": "B_imdgxjRsY3",
        "colab_type": "code",
        "outputId": "646ea24d-3568-4bde-9b90-580676de60b6",
        "colab": {
          "base_uri": "https://localhost:8080/",
          "height": 1000
        }
      },
      "source": [
        "#load and save model\n",
        "input_size = (img_h,img_w,channels)\n",
        "\n",
        "model = yolo_model(input_size)\n",
        "\n",
        "print(model.summary())\n",
        "\n",
        "save_model(model)\n"
      ],
      "execution_count": 0,
      "outputs": [
        {
          "output_type": "stream",
          "text": [
            "WARNING:tensorflow:From /usr/local/lib/python3.6/dist-packages/keras/backend/tensorflow_backend.py:66: The name tf.get_default_graph is deprecated. Please use tf.compat.v1.get_default_graph instead.\n",
            "\n",
            "WARNING:tensorflow:From /usr/local/lib/python3.6/dist-packages/keras/backend/tensorflow_backend.py:541: The name tf.placeholder is deprecated. Please use tf.compat.v1.placeholder instead.\n",
            "\n",
            "WARNING:tensorflow:From /usr/local/lib/python3.6/dist-packages/keras/backend/tensorflow_backend.py:4432: The name tf.random_uniform is deprecated. Please use tf.random.uniform instead.\n",
            "\n",
            "WARNING:tensorflow:From /usr/local/lib/python3.6/dist-packages/keras/backend/tensorflow_backend.py:190: The name tf.get_default_session is deprecated. Please use tf.compat.v1.get_default_session instead.\n",
            "\n",
            "WARNING:tensorflow:From /usr/local/lib/python3.6/dist-packages/keras/backend/tensorflow_backend.py:197: The name tf.ConfigProto is deprecated. Please use tf.compat.v1.ConfigProto instead.\n",
            "\n",
            "WARNING:tensorflow:From /usr/local/lib/python3.6/dist-packages/keras/backend/tensorflow_backend.py:203: The name tf.Session is deprecated. Please use tf.compat.v1.Session instead.\n",
            "\n",
            "WARNING:tensorflow:From /usr/local/lib/python3.6/dist-packages/keras/backend/tensorflow_backend.py:207: The name tf.global_variables is deprecated. Please use tf.compat.v1.global_variables instead.\n",
            "\n",
            "WARNING:tensorflow:From /usr/local/lib/python3.6/dist-packages/keras/backend/tensorflow_backend.py:216: The name tf.is_variable_initialized is deprecated. Please use tf.compat.v1.is_variable_initialized instead.\n",
            "\n",
            "WARNING:tensorflow:From /usr/local/lib/python3.6/dist-packages/keras/backend/tensorflow_backend.py:223: The name tf.variables_initializer is deprecated. Please use tf.compat.v1.variables_initializer instead.\n",
            "\n"
          ],
          "name": "stdout"
        },
        {
          "output_type": "stream",
          "text": [
            "/usr/local/lib/python3.6/dist-packages/keras_applications/mobilenet_v2.py:294: UserWarning: `input_shape` is undefined or non-square, or `rows` is not in [96, 128, 160, 192, 224]. Weights for input shape (224, 224) will be loaded as the default.\n",
            "  warnings.warn('`input_shape` is undefined or non-square, '\n"
          ],
          "name": "stderr"
        },
        {
          "output_type": "stream",
          "text": [
            "WARNING:tensorflow:From /usr/local/lib/python3.6/dist-packages/keras/backend/tensorflow_backend.py:2041: The name tf.nn.fused_batch_norm is deprecated. Please use tf.compat.v1.nn.fused_batch_norm instead.\n",
            "\n",
            "WARNING:tensorflow:From /usr/local/lib/python3.6/dist-packages/keras/backend/tensorflow_backend.py:148: The name tf.placeholder_with_default is deprecated. Please use tf.compat.v1.placeholder_with_default instead.\n",
            "\n",
            "WARNING:tensorflow:From /usr/local/lib/python3.6/dist-packages/keras/backend/tensorflow_backend.py:3733: calling dropout (from tensorflow.python.ops.nn_ops) with keep_prob is deprecated and will be removed in a future version.\n",
            "Instructions for updating:\n",
            "Please use `rate` instead of `keep_prob`. Rate should be set to `rate = 1 - keep_prob`.\n",
            "Model: \"model_1\"\n",
            "__________________________________________________________________________________________________\n",
            "Layer (type)                    Output Shape         Param #     Connected to                     \n",
            "==================================================================================================\n",
            "input_1 (InputLayer)            (None, 512, 512, 3)  0                                            \n",
            "__________________________________________________________________________________________________\n",
            "Conv1_pad (ZeroPadding2D)       (None, 513, 513, 3)  0           input_1[0][0]                    \n",
            "__________________________________________________________________________________________________\n",
            "Conv1 (Conv2D)                  (None, 256, 256, 32) 864         Conv1_pad[0][0]                  \n",
            "__________________________________________________________________________________________________\n",
            "bn_Conv1 (BatchNormalization)   (None, 256, 256, 32) 128         Conv1[0][0]                      \n",
            "__________________________________________________________________________________________________\n",
            "Conv1_relu (ReLU)               (None, 256, 256, 32) 0           bn_Conv1[0][0]                   \n",
            "__________________________________________________________________________________________________\n",
            "expanded_conv_depthwise (Depthw (None, 256, 256, 32) 288         Conv1_relu[0][0]                 \n",
            "__________________________________________________________________________________________________\n",
            "expanded_conv_depthwise_BN (Bat (None, 256, 256, 32) 128         expanded_conv_depthwise[0][0]    \n",
            "__________________________________________________________________________________________________\n",
            "expanded_conv_depthwise_relu (R (None, 256, 256, 32) 0           expanded_conv_depthwise_BN[0][0] \n",
            "__________________________________________________________________________________________________\n",
            "expanded_conv_project (Conv2D)  (None, 256, 256, 16) 512         expanded_conv_depthwise_relu[0][0\n",
            "__________________________________________________________________________________________________\n",
            "expanded_conv_project_BN (Batch (None, 256, 256, 16) 64          expanded_conv_project[0][0]      \n",
            "__________________________________________________________________________________________________\n",
            "block_1_expand (Conv2D)         (None, 256, 256, 96) 1536        expanded_conv_project_BN[0][0]   \n",
            "__________________________________________________________________________________________________\n",
            "block_1_expand_BN (BatchNormali (None, 256, 256, 96) 384         block_1_expand[0][0]             \n",
            "__________________________________________________________________________________________________\n",
            "block_1_expand_relu (ReLU)      (None, 256, 256, 96) 0           block_1_expand_BN[0][0]          \n",
            "__________________________________________________________________________________________________\n",
            "block_1_pad (ZeroPadding2D)     (None, 257, 257, 96) 0           block_1_expand_relu[0][0]        \n",
            "__________________________________________________________________________________________________\n",
            "block_1_depthwise (DepthwiseCon (None, 128, 128, 96) 864         block_1_pad[0][0]                \n",
            "__________________________________________________________________________________________________\n",
            "block_1_depthwise_BN (BatchNorm (None, 128, 128, 96) 384         block_1_depthwise[0][0]          \n",
            "__________________________________________________________________________________________________\n",
            "block_1_depthwise_relu (ReLU)   (None, 128, 128, 96) 0           block_1_depthwise_BN[0][0]       \n",
            "__________________________________________________________________________________________________\n",
            "block_1_project (Conv2D)        (None, 128, 128, 24) 2304        block_1_depthwise_relu[0][0]     \n",
            "__________________________________________________________________________________________________\n",
            "block_1_project_BN (BatchNormal (None, 128, 128, 24) 96          block_1_project[0][0]            \n",
            "__________________________________________________________________________________________________\n",
            "block_2_expand (Conv2D)         (None, 128, 128, 144 3456        block_1_project_BN[0][0]         \n",
            "__________________________________________________________________________________________________\n",
            "block_2_expand_BN (BatchNormali (None, 128, 128, 144 576         block_2_expand[0][0]             \n",
            "__________________________________________________________________________________________________\n",
            "block_2_expand_relu (ReLU)      (None, 128, 128, 144 0           block_2_expand_BN[0][0]          \n",
            "__________________________________________________________________________________________________\n",
            "block_2_depthwise (DepthwiseCon (None, 128, 128, 144 1296        block_2_expand_relu[0][0]        \n",
            "__________________________________________________________________________________________________\n",
            "block_2_depthwise_BN (BatchNorm (None, 128, 128, 144 576         block_2_depthwise[0][0]          \n",
            "__________________________________________________________________________________________________\n",
            "block_2_depthwise_relu (ReLU)   (None, 128, 128, 144 0           block_2_depthwise_BN[0][0]       \n",
            "__________________________________________________________________________________________________\n",
            "block_2_project (Conv2D)        (None, 128, 128, 24) 3456        block_2_depthwise_relu[0][0]     \n",
            "__________________________________________________________________________________________________\n",
            "block_2_project_BN (BatchNormal (None, 128, 128, 24) 96          block_2_project[0][0]            \n",
            "__________________________________________________________________________________________________\n",
            "block_2_add (Add)               (None, 128, 128, 24) 0           block_1_project_BN[0][0]         \n",
            "                                                                 block_2_project_BN[0][0]         \n",
            "__________________________________________________________________________________________________\n",
            "block_3_expand (Conv2D)         (None, 128, 128, 144 3456        block_2_add[0][0]                \n",
            "__________________________________________________________________________________________________\n",
            "block_3_expand_BN (BatchNormali (None, 128, 128, 144 576         block_3_expand[0][0]             \n",
            "__________________________________________________________________________________________________\n",
            "block_3_expand_relu (ReLU)      (None, 128, 128, 144 0           block_3_expand_BN[0][0]          \n",
            "__________________________________________________________________________________________________\n",
            "block_3_pad (ZeroPadding2D)     (None, 129, 129, 144 0           block_3_expand_relu[0][0]        \n",
            "__________________________________________________________________________________________________\n",
            "block_3_depthwise (DepthwiseCon (None, 64, 64, 144)  1296        block_3_pad[0][0]                \n",
            "__________________________________________________________________________________________________\n",
            "block_3_depthwise_BN (BatchNorm (None, 64, 64, 144)  576         block_3_depthwise[0][0]          \n",
            "__________________________________________________________________________________________________\n",
            "block_3_depthwise_relu (ReLU)   (None, 64, 64, 144)  0           block_3_depthwise_BN[0][0]       \n",
            "__________________________________________________________________________________________________\n",
            "block_3_project (Conv2D)        (None, 64, 64, 32)   4608        block_3_depthwise_relu[0][0]     \n",
            "__________________________________________________________________________________________________\n",
            "block_3_project_BN (BatchNormal (None, 64, 64, 32)   128         block_3_project[0][0]            \n",
            "__________________________________________________________________________________________________\n",
            "block_4_expand (Conv2D)         (None, 64, 64, 192)  6144        block_3_project_BN[0][0]         \n",
            "__________________________________________________________________________________________________\n",
            "block_4_expand_BN (BatchNormali (None, 64, 64, 192)  768         block_4_expand[0][0]             \n",
            "__________________________________________________________________________________________________\n",
            "block_4_expand_relu (ReLU)      (None, 64, 64, 192)  0           block_4_expand_BN[0][0]          \n",
            "__________________________________________________________________________________________________\n",
            "block_4_depthwise (DepthwiseCon (None, 64, 64, 192)  1728        block_4_expand_relu[0][0]        \n",
            "__________________________________________________________________________________________________\n",
            "block_4_depthwise_BN (BatchNorm (None, 64, 64, 192)  768         block_4_depthwise[0][0]          \n",
            "__________________________________________________________________________________________________\n",
            "block_4_depthwise_relu (ReLU)   (None, 64, 64, 192)  0           block_4_depthwise_BN[0][0]       \n",
            "__________________________________________________________________________________________________\n",
            "block_4_project (Conv2D)        (None, 64, 64, 32)   6144        block_4_depthwise_relu[0][0]     \n",
            "__________________________________________________________________________________________________\n",
            "block_4_project_BN (BatchNormal (None, 64, 64, 32)   128         block_4_project[0][0]            \n",
            "__________________________________________________________________________________________________\n",
            "block_4_add (Add)               (None, 64, 64, 32)   0           block_3_project_BN[0][0]         \n",
            "                                                                 block_4_project_BN[0][0]         \n",
            "__________________________________________________________________________________________________\n",
            "block_5_expand (Conv2D)         (None, 64, 64, 192)  6144        block_4_add[0][0]                \n",
            "__________________________________________________________________________________________________\n",
            "block_5_expand_BN (BatchNormali (None, 64, 64, 192)  768         block_5_expand[0][0]             \n",
            "__________________________________________________________________________________________________\n",
            "block_5_expand_relu (ReLU)      (None, 64, 64, 192)  0           block_5_expand_BN[0][0]          \n",
            "__________________________________________________________________________________________________\n",
            "block_5_depthwise (DepthwiseCon (None, 64, 64, 192)  1728        block_5_expand_relu[0][0]        \n",
            "__________________________________________________________________________________________________\n",
            "block_5_depthwise_BN (BatchNorm (None, 64, 64, 192)  768         block_5_depthwise[0][0]          \n",
            "__________________________________________________________________________________________________\n",
            "block_5_depthwise_relu (ReLU)   (None, 64, 64, 192)  0           block_5_depthwise_BN[0][0]       \n",
            "__________________________________________________________________________________________________\n",
            "block_5_project (Conv2D)        (None, 64, 64, 32)   6144        block_5_depthwise_relu[0][0]     \n",
            "__________________________________________________________________________________________________\n",
            "block_5_project_BN (BatchNormal (None, 64, 64, 32)   128         block_5_project[0][0]            \n",
            "__________________________________________________________________________________________________\n",
            "block_5_add (Add)               (None, 64, 64, 32)   0           block_4_add[0][0]                \n",
            "                                                                 block_5_project_BN[0][0]         \n",
            "__________________________________________________________________________________________________\n",
            "block_6_expand (Conv2D)         (None, 64, 64, 192)  6144        block_5_add[0][0]                \n",
            "__________________________________________________________________________________________________\n",
            "block_6_expand_BN (BatchNormali (None, 64, 64, 192)  768         block_6_expand[0][0]             \n",
            "__________________________________________________________________________________________________\n",
            "block_6_expand_relu (ReLU)      (None, 64, 64, 192)  0           block_6_expand_BN[0][0]          \n",
            "__________________________________________________________________________________________________\n",
            "block_6_pad (ZeroPadding2D)     (None, 65, 65, 192)  0           block_6_expand_relu[0][0]        \n",
            "__________________________________________________________________________________________________\n",
            "block_6_depthwise (DepthwiseCon (None, 32, 32, 192)  1728        block_6_pad[0][0]                \n",
            "__________________________________________________________________________________________________\n",
            "block_6_depthwise_BN (BatchNorm (None, 32, 32, 192)  768         block_6_depthwise[0][0]          \n",
            "__________________________________________________________________________________________________\n",
            "block_6_depthwise_relu (ReLU)   (None, 32, 32, 192)  0           block_6_depthwise_BN[0][0]       \n",
            "__________________________________________________________________________________________________\n",
            "block_6_project (Conv2D)        (None, 32, 32, 64)   12288       block_6_depthwise_relu[0][0]     \n",
            "__________________________________________________________________________________________________\n",
            "block_6_project_BN (BatchNormal (None, 32, 32, 64)   256         block_6_project[0][0]            \n",
            "__________________________________________________________________________________________________\n",
            "block_7_expand (Conv2D)         (None, 32, 32, 384)  24576       block_6_project_BN[0][0]         \n",
            "__________________________________________________________________________________________________\n",
            "block_7_expand_BN (BatchNormali (None, 32, 32, 384)  1536        block_7_expand[0][0]             \n",
            "__________________________________________________________________________________________________\n",
            "block_7_expand_relu (ReLU)      (None, 32, 32, 384)  0           block_7_expand_BN[0][0]          \n",
            "__________________________________________________________________________________________________\n",
            "block_7_depthwise (DepthwiseCon (None, 32, 32, 384)  3456        block_7_expand_relu[0][0]        \n",
            "__________________________________________________________________________________________________\n",
            "block_7_depthwise_BN (BatchNorm (None, 32, 32, 384)  1536        block_7_depthwise[0][0]          \n",
            "__________________________________________________________________________________________________\n",
            "block_7_depthwise_relu (ReLU)   (None, 32, 32, 384)  0           block_7_depthwise_BN[0][0]       \n",
            "__________________________________________________________________________________________________\n",
            "block_7_project (Conv2D)        (None, 32, 32, 64)   24576       block_7_depthwise_relu[0][0]     \n",
            "__________________________________________________________________________________________________\n",
            "block_7_project_BN (BatchNormal (None, 32, 32, 64)   256         block_7_project[0][0]            \n",
            "__________________________________________________________________________________________________\n",
            "block_7_add (Add)               (None, 32, 32, 64)   0           block_6_project_BN[0][0]         \n",
            "                                                                 block_7_project_BN[0][0]         \n",
            "__________________________________________________________________________________________________\n",
            "block_8_expand (Conv2D)         (None, 32, 32, 384)  24576       block_7_add[0][0]                \n",
            "__________________________________________________________________________________________________\n",
            "block_8_expand_BN (BatchNormali (None, 32, 32, 384)  1536        block_8_expand[0][0]             \n",
            "__________________________________________________________________________________________________\n",
            "block_8_expand_relu (ReLU)      (None, 32, 32, 384)  0           block_8_expand_BN[0][0]          \n",
            "__________________________________________________________________________________________________\n",
            "block_8_depthwise (DepthwiseCon (None, 32, 32, 384)  3456        block_8_expand_relu[0][0]        \n",
            "__________________________________________________________________________________________________\n",
            "block_8_depthwise_BN (BatchNorm (None, 32, 32, 384)  1536        block_8_depthwise[0][0]          \n",
            "__________________________________________________________________________________________________\n",
            "block_8_depthwise_relu (ReLU)   (None, 32, 32, 384)  0           block_8_depthwise_BN[0][0]       \n",
            "__________________________________________________________________________________________________\n",
            "block_8_project (Conv2D)        (None, 32, 32, 64)   24576       block_8_depthwise_relu[0][0]     \n",
            "__________________________________________________________________________________________________\n",
            "block_8_project_BN (BatchNormal (None, 32, 32, 64)   256         block_8_project[0][0]            \n",
            "__________________________________________________________________________________________________\n",
            "block_8_add (Add)               (None, 32, 32, 64)   0           block_7_add[0][0]                \n",
            "                                                                 block_8_project_BN[0][0]         \n",
            "__________________________________________________________________________________________________\n",
            "block_9_expand (Conv2D)         (None, 32, 32, 384)  24576       block_8_add[0][0]                \n",
            "__________________________________________________________________________________________________\n",
            "block_9_expand_BN (BatchNormali (None, 32, 32, 384)  1536        block_9_expand[0][0]             \n",
            "__________________________________________________________________________________________________\n",
            "block_9_expand_relu (ReLU)      (None, 32, 32, 384)  0           block_9_expand_BN[0][0]          \n",
            "__________________________________________________________________________________________________\n",
            "block_9_depthwise (DepthwiseCon (None, 32, 32, 384)  3456        block_9_expand_relu[0][0]        \n",
            "__________________________________________________________________________________________________\n",
            "block_9_depthwise_BN (BatchNorm (None, 32, 32, 384)  1536        block_9_depthwise[0][0]          \n",
            "__________________________________________________________________________________________________\n",
            "block_9_depthwise_relu (ReLU)   (None, 32, 32, 384)  0           block_9_depthwise_BN[0][0]       \n",
            "__________________________________________________________________________________________________\n",
            "block_9_project (Conv2D)        (None, 32, 32, 64)   24576       block_9_depthwise_relu[0][0]     \n",
            "__________________________________________________________________________________________________\n",
            "block_9_project_BN (BatchNormal (None, 32, 32, 64)   256         block_9_project[0][0]            \n",
            "__________________________________________________________________________________________________\n",
            "block_9_add (Add)               (None, 32, 32, 64)   0           block_8_add[0][0]                \n",
            "                                                                 block_9_project_BN[0][0]         \n",
            "__________________________________________________________________________________________________\n",
            "block_10_expand (Conv2D)        (None, 32, 32, 384)  24576       block_9_add[0][0]                \n",
            "__________________________________________________________________________________________________\n",
            "block_10_expand_BN (BatchNormal (None, 32, 32, 384)  1536        block_10_expand[0][0]            \n",
            "__________________________________________________________________________________________________\n",
            "block_10_expand_relu (ReLU)     (None, 32, 32, 384)  0           block_10_expand_BN[0][0]         \n",
            "__________________________________________________________________________________________________\n",
            "block_10_depthwise (DepthwiseCo (None, 32, 32, 384)  3456        block_10_expand_relu[0][0]       \n",
            "__________________________________________________________________________________________________\n",
            "block_10_depthwise_BN (BatchNor (None, 32, 32, 384)  1536        block_10_depthwise[0][0]         \n",
            "__________________________________________________________________________________________________\n",
            "block_10_depthwise_relu (ReLU)  (None, 32, 32, 384)  0           block_10_depthwise_BN[0][0]      \n",
            "__________________________________________________________________________________________________\n",
            "block_10_project (Conv2D)       (None, 32, 32, 96)   36864       block_10_depthwise_relu[0][0]    \n",
            "__________________________________________________________________________________________________\n",
            "block_10_project_BN (BatchNorma (None, 32, 32, 96)   384         block_10_project[0][0]           \n",
            "__________________________________________________________________________________________________\n",
            "block_11_expand (Conv2D)        (None, 32, 32, 576)  55296       block_10_project_BN[0][0]        \n",
            "__________________________________________________________________________________________________\n",
            "block_11_expand_BN (BatchNormal (None, 32, 32, 576)  2304        block_11_expand[0][0]            \n",
            "__________________________________________________________________________________________________\n",
            "block_11_expand_relu (ReLU)     (None, 32, 32, 576)  0           block_11_expand_BN[0][0]         \n",
            "__________________________________________________________________________________________________\n",
            "block_11_depthwise (DepthwiseCo (None, 32, 32, 576)  5184        block_11_expand_relu[0][0]       \n",
            "__________________________________________________________________________________________________\n",
            "block_11_depthwise_BN (BatchNor (None, 32, 32, 576)  2304        block_11_depthwise[0][0]         \n",
            "__________________________________________________________________________________________________\n",
            "block_11_depthwise_relu (ReLU)  (None, 32, 32, 576)  0           block_11_depthwise_BN[0][0]      \n",
            "__________________________________________________________________________________________________\n",
            "block_11_project (Conv2D)       (None, 32, 32, 96)   55296       block_11_depthwise_relu[0][0]    \n",
            "__________________________________________________________________________________________________\n",
            "block_11_project_BN (BatchNorma (None, 32, 32, 96)   384         block_11_project[0][0]           \n",
            "__________________________________________________________________________________________________\n",
            "block_11_add (Add)              (None, 32, 32, 96)   0           block_10_project_BN[0][0]        \n",
            "                                                                 block_11_project_BN[0][0]        \n",
            "__________________________________________________________________________________________________\n",
            "block_12_expand (Conv2D)        (None, 32, 32, 576)  55296       block_11_add[0][0]               \n",
            "__________________________________________________________________________________________________\n",
            "block_12_expand_BN (BatchNormal (None, 32, 32, 576)  2304        block_12_expand[0][0]            \n",
            "__________________________________________________________________________________________________\n",
            "block_12_expand_relu (ReLU)     (None, 32, 32, 576)  0           block_12_expand_BN[0][0]         \n",
            "__________________________________________________________________________________________________\n",
            "block_12_depthwise (DepthwiseCo (None, 32, 32, 576)  5184        block_12_expand_relu[0][0]       \n",
            "__________________________________________________________________________________________________\n",
            "block_12_depthwise_BN (BatchNor (None, 32, 32, 576)  2304        block_12_depthwise[0][0]         \n",
            "__________________________________________________________________________________________________\n",
            "block_12_depthwise_relu (ReLU)  (None, 32, 32, 576)  0           block_12_depthwise_BN[0][0]      \n",
            "__________________________________________________________________________________________________\n",
            "block_12_project (Conv2D)       (None, 32, 32, 96)   55296       block_12_depthwise_relu[0][0]    \n",
            "__________________________________________________________________________________________________\n",
            "block_12_project_BN (BatchNorma (None, 32, 32, 96)   384         block_12_project[0][0]           \n",
            "__________________________________________________________________________________________________\n",
            "block_12_add (Add)              (None, 32, 32, 96)   0           block_11_add[0][0]               \n",
            "                                                                 block_12_project_BN[0][0]        \n",
            "__________________________________________________________________________________________________\n",
            "block_13_expand (Conv2D)        (None, 32, 32, 576)  55296       block_12_add[0][0]               \n",
            "__________________________________________________________________________________________________\n",
            "block_13_expand_BN (BatchNormal (None, 32, 32, 576)  2304        block_13_expand[0][0]            \n",
            "__________________________________________________________________________________________________\n",
            "block_13_expand_relu (ReLU)     (None, 32, 32, 576)  0           block_13_expand_BN[0][0]         \n",
            "__________________________________________________________________________________________________\n",
            "block_13_pad (ZeroPadding2D)    (None, 33, 33, 576)  0           block_13_expand_relu[0][0]       \n",
            "__________________________________________________________________________________________________\n",
            "block_13_depthwise (DepthwiseCo (None, 16, 16, 576)  5184        block_13_pad[0][0]               \n",
            "__________________________________________________________________________________________________\n",
            "block_13_depthwise_BN (BatchNor (None, 16, 16, 576)  2304        block_13_depthwise[0][0]         \n",
            "__________________________________________________________________________________________________\n",
            "block_13_depthwise_relu (ReLU)  (None, 16, 16, 576)  0           block_13_depthwise_BN[0][0]      \n",
            "__________________________________________________________________________________________________\n",
            "block_13_project (Conv2D)       (None, 16, 16, 160)  92160       block_13_depthwise_relu[0][0]    \n",
            "__________________________________________________________________________________________________\n",
            "block_13_project_BN (BatchNorma (None, 16, 16, 160)  640         block_13_project[0][0]           \n",
            "__________________________________________________________________________________________________\n",
            "block_14_expand (Conv2D)        (None, 16, 16, 960)  153600      block_13_project_BN[0][0]        \n",
            "__________________________________________________________________________________________________\n",
            "block_14_expand_BN (BatchNormal (None, 16, 16, 960)  3840        block_14_expand[0][0]            \n",
            "__________________________________________________________________________________________________\n",
            "block_14_expand_relu (ReLU)     (None, 16, 16, 960)  0           block_14_expand_BN[0][0]         \n",
            "__________________________________________________________________________________________________\n",
            "block_14_depthwise (DepthwiseCo (None, 16, 16, 960)  8640        block_14_expand_relu[0][0]       \n",
            "__________________________________________________________________________________________________\n",
            "block_14_depthwise_BN (BatchNor (None, 16, 16, 960)  3840        block_14_depthwise[0][0]         \n",
            "__________________________________________________________________________________________________\n",
            "block_14_depthwise_relu (ReLU)  (None, 16, 16, 960)  0           block_14_depthwise_BN[0][0]      \n",
            "__________________________________________________________________________________________________\n",
            "block_14_project (Conv2D)       (None, 16, 16, 160)  153600      block_14_depthwise_relu[0][0]    \n",
            "__________________________________________________________________________________________________\n",
            "block_14_project_BN (BatchNorma (None, 16, 16, 160)  640         block_14_project[0][0]           \n",
            "__________________________________________________________________________________________________\n",
            "block_14_add (Add)              (None, 16, 16, 160)  0           block_13_project_BN[0][0]        \n",
            "                                                                 block_14_project_BN[0][0]        \n",
            "__________________________________________________________________________________________________\n",
            "block_15_expand (Conv2D)        (None, 16, 16, 960)  153600      block_14_add[0][0]               \n",
            "__________________________________________________________________________________________________\n",
            "block_15_expand_BN (BatchNormal (None, 16, 16, 960)  3840        block_15_expand[0][0]            \n",
            "__________________________________________________________________________________________________\n",
            "block_15_expand_relu (ReLU)     (None, 16, 16, 960)  0           block_15_expand_BN[0][0]         \n",
            "__________________________________________________________________________________________________\n",
            "block_15_depthwise (DepthwiseCo (None, 16, 16, 960)  8640        block_15_expand_relu[0][0]       \n",
            "__________________________________________________________________________________________________\n",
            "block_15_depthwise_BN (BatchNor (None, 16, 16, 960)  3840        block_15_depthwise[0][0]         \n",
            "__________________________________________________________________________________________________\n",
            "block_15_depthwise_relu (ReLU)  (None, 16, 16, 960)  0           block_15_depthwise_BN[0][0]      \n",
            "__________________________________________________________________________________________________\n",
            "block_15_project (Conv2D)       (None, 16, 16, 160)  153600      block_15_depthwise_relu[0][0]    \n",
            "__________________________________________________________________________________________________\n",
            "block_15_project_BN (BatchNorma (None, 16, 16, 160)  640         block_15_project[0][0]           \n",
            "__________________________________________________________________________________________________\n",
            "block_15_add (Add)              (None, 16, 16, 160)  0           block_14_add[0][0]               \n",
            "                                                                 block_15_project_BN[0][0]        \n",
            "__________________________________________________________________________________________________\n",
            "block_16_expand (Conv2D)        (None, 16, 16, 960)  153600      block_15_add[0][0]               \n",
            "__________________________________________________________________________________________________\n",
            "block_16_expand_BN (BatchNormal (None, 16, 16, 960)  3840        block_16_expand[0][0]            \n",
            "__________________________________________________________________________________________________\n",
            "block_16_expand_relu (ReLU)     (None, 16, 16, 960)  0           block_16_expand_BN[0][0]         \n",
            "__________________________________________________________________________________________________\n",
            "block_16_depthwise (DepthwiseCo (None, 16, 16, 960)  8640        block_16_expand_relu[0][0]       \n",
            "__________________________________________________________________________________________________\n",
            "block_16_depthwise_BN (BatchNor (None, 16, 16, 960)  3840        block_16_depthwise[0][0]         \n",
            "__________________________________________________________________________________________________\n",
            "block_16_depthwise_relu (ReLU)  (None, 16, 16, 960)  0           block_16_depthwise_BN[0][0]      \n",
            "__________________________________________________________________________________________________\n",
            "block_16_project (Conv2D)       (None, 16, 16, 320)  307200      block_16_depthwise_relu[0][0]    \n",
            "__________________________________________________________________________________________________\n",
            "block_16_project_BN (BatchNorma (None, 16, 16, 320)  1280        block_16_project[0][0]           \n",
            "__________________________________________________________________________________________________\n",
            "Conv_1 (Conv2D)                 (None, 16, 16, 1280) 409600      block_16_project_BN[0][0]        \n",
            "__________________________________________________________________________________________________\n",
            "Conv_1_bn (BatchNormalization)  (None, 16, 16, 1280) 5120        Conv_1[0][0]                     \n",
            "__________________________________________________________________________________________________\n",
            "out_relu (ReLU)                 (None, 16, 16, 1280) 0           Conv_1_bn[0][0]                  \n",
            "__________________________________________________________________________________________________\n",
            "conv2d_1 (Conv2D)               (None, 16, 16, 512)  5898752     out_relu[0][0]                   \n",
            "__________________________________________________________________________________________________\n",
            "dropout_1 (Dropout)             (None, 16, 16, 512)  0           conv2d_1[0][0]                   \n",
            "__________________________________________________________________________________________________\n",
            "batch_normalization_1 (BatchNor (None, 16, 16, 512)  2048        dropout_1[0][0]                  \n",
            "__________________________________________________________________________________________________\n",
            "leaky_re_lu_1 (LeakyReLU)       (None, 16, 16, 512)  0           batch_normalization_1[0][0]      \n",
            "__________________________________________________________________________________________________\n",
            "conv2d_2 (Conv2D)               (None, 16, 16, 128)  589952      leaky_re_lu_1[0][0]              \n",
            "__________________________________________________________________________________________________\n",
            "dropout_2 (Dropout)             (None, 16, 16, 128)  0           conv2d_2[0][0]                   \n",
            "__________________________________________________________________________________________________\n",
            "batch_normalization_2 (BatchNor (None, 16, 16, 128)  512         dropout_2[0][0]                  \n",
            "__________________________________________________________________________________________________\n",
            "leaky_re_lu_2 (LeakyReLU)       (None, 16, 16, 128)  0           batch_normalization_2[0][0]      \n",
            "__________________________________________________________________________________________________\n",
            "conv2d_3 (Conv2D)               (None, 16, 16, 5)    5765        leaky_re_lu_2[0][0]              \n",
            "__________________________________________________________________________________________________\n",
            "reshape_1 (Reshape)             (None, 16, 16, 1, 5) 0           conv2d_3[0][0]                   \n",
            "==================================================================================================\n",
            "Total params: 8,755,013\n",
            "Trainable params: 8,719,621\n",
            "Non-trainable params: 35,392\n",
            "__________________________________________________________________________________________________\n",
            "None\n"
          ],
          "name": "stdout"
        }
      ]
    },
    {
      "cell_type": "code",
      "metadata": {
        "id": "OrjrZ2zCRue4",
        "colab_type": "code",
        "colab": {}
      },
      "source": [
        "model.load_weights('/content/drive/My Drive/tt/model1/text_detect.h5')"
      ],
      "execution_count": 0,
      "outputs": []
    },
    {
      "cell_type": "code",
      "metadata": {
        "id": "cxv6-FjIR2U4",
        "colab_type": "code",
        "outputId": "7713a454-f8d4-4dfe-ef8c-dbbd92bfe82c",
        "colab": {
          "base_uri": "https://localhost:8080/",
          "height": 51
        }
      },
      "source": [
        "model.compile(loss=yolo_loss_func , optimizer=opt , metrics = ['accuracy'])"
      ],
      "execution_count": 0,
      "outputs": [
        {
          "output_type": "stream",
          "text": [
            "WARNING:tensorflow:From /usr/local/lib/python3.6/dist-packages/keras/optimizers.py:793: The name tf.train.Optimizer is deprecated. Please use tf.compat.v1.train.Optimizer instead.\n",
            "\n"
          ],
          "name": "stdout"
        }
      ]
    },
    {
      "cell_type": "code",
      "metadata": {
        "id": "I9xzDKNhR4FW",
        "colab_type": "code",
        "outputId": "92572e8e-98e5-4d72-932a-e2283d79de36",
        "colab": {
          "base_uri": "https://localhost:8080/",
          "height": 867
        }
      },
      "source": [
        "hist = model.fit(X_train ,Y_train ,epochs= 50 ,batch_size = 1 , callbacks=[checkpoint] , validation_data=(X_val,Y_val))"
      ],
      "execution_count": 0,
      "outputs": [
        {
          "output_type": "stream",
          "text": [
            "WARNING:tensorflow:From /usr/local/lib/python3.6/dist-packages/tensorflow_core/python/ops/math_grad.py:1424: where (from tensorflow.python.ops.array_ops) is deprecated and will be removed in a future version.\n",
            "Instructions for updating:\n",
            "Use tf.where in 2.0, which has the same broadcast rule as np.where\n",
            "WARNING:tensorflow:From /usr/local/lib/python3.6/dist-packages/keras/backend/tensorflow_backend.py:1033: The name tf.assign_add is deprecated. Please use tf.compat.v1.assign_add instead.\n",
            "\n",
            "WARNING:tensorflow:From /usr/local/lib/python3.6/dist-packages/keras/backend/tensorflow_backend.py:1020: The name tf.assign is deprecated. Please use tf.compat.v1.assign instead.\n",
            "\n",
            "Train on 79 samples, validate on 9 samples\n",
            "Epoch 1/50\n",
            "79/79 [==============================] - 26s 328ms/step - loss: 1.8016 - acc: 0.0212 - val_loss: 1.9054 - val_acc: 0.0265\n",
            "\n",
            "Epoch 00001: val_loss improved from inf to 1.90535, saving model to /content/drive/My Drive/tt/model1/text_detect.h5\n",
            "Epoch 2/50\n",
            "79/79 [==============================] - 13s 165ms/step - loss: 2.0219 - acc: 0.0220 - val_loss: 1.9055 - val_acc: 0.0269\n",
            "\n",
            "Epoch 00002: val_loss did not improve from 1.90535\n",
            "Epoch 3/50\n",
            "79/79 [==============================] - 13s 162ms/step - loss: 1.8753 - acc: 0.0219 - val_loss: 1.9049 - val_acc: 0.0260\n",
            "\n",
            "Epoch 00003: val_loss improved from 1.90535 to 1.90491, saving model to /content/drive/My Drive/tt/model1/text_detect.h5\n",
            "Epoch 4/50\n",
            "79/79 [==============================] - 13s 163ms/step - loss: 1.8735 - acc: 0.0225 - val_loss: 1.9067 - val_acc: 0.0256\n",
            "\n",
            "Epoch 00004: val_loss did not improve from 1.90491\n",
            "Epoch 5/50\n",
            "79/79 [==============================] - 13s 162ms/step - loss: 1.8781 - acc: 0.0199 - val_loss: 1.9064 - val_acc: 0.0252\n",
            "\n",
            "Epoch 00005: val_loss did not improve from 1.90491\n",
            "Epoch 6/50\n",
            "79/79 [==============================] - 13s 161ms/step - loss: 1.8151 - acc: 0.0220 - val_loss: 1.9046 - val_acc: 0.0243\n",
            "\n",
            "Epoch 00006: val_loss improved from 1.90491 to 1.90459, saving model to /content/drive/My Drive/tt/model1/text_detect.h5\n",
            "Epoch 7/50\n",
            "79/79 [==============================] - 13s 164ms/step - loss: 1.8758 - acc: 0.0217 - val_loss: 1.9031 - val_acc: 0.0252\n",
            "\n",
            "Epoch 00007: val_loss improved from 1.90459 to 1.90310, saving model to /content/drive/My Drive/tt/model1/text_detect.h5\n",
            "Epoch 8/50\n",
            "79/79 [==============================] - 13s 164ms/step - loss: 1.7967 - acc: 0.0214 - val_loss: 1.9028 - val_acc: 0.0260\n",
            "\n",
            "Epoch 00008: val_loss improved from 1.90310 to 1.90276, saving model to /content/drive/My Drive/tt/model1/text_detect.h5\n",
            "Epoch 9/50\n",
            "79/79 [==============================] - 13s 163ms/step - loss: 1.9285 - acc: 0.0207 - val_loss: 1.9025 - val_acc: 0.0265\n",
            "\n",
            "Epoch 00009: val_loss improved from 1.90276 to 1.90251, saving model to /content/drive/My Drive/tt/model1/text_detect.h5\n",
            "Epoch 10/50\n",
            "79/79 [==============================] - 13s 163ms/step - loss: 1.8447 - acc: 0.0213 - val_loss: 1.9037 - val_acc: 0.0252\n",
            "\n",
            "Epoch 00010: val_loss did not improve from 1.90251\n",
            "Epoch 11/50\n",
            "27/79 [=========>....................] - ETA: 8s - loss: 2.2517 - acc: 0.0207"
          ],
          "name": "stdout"
        }
      ]
    },
    {
      "cell_type": "code",
      "metadata": {
        "id": "PDpFzSYBR5yW",
        "colab_type": "code",
        "colab": {}
      },
      "source": [
        "model = load_model('/content/drive/My Drive/tt/model1/text_detect_model.json')\n",
        "model.load_weights('/content/drive/My Drive/tt/model1/text_detect.h5')"
      ],
      "execution_count": 0,
      "outputs": []
    },
    {
      "cell_type": "code",
      "metadata": {
        "id": "LVAmwdtbTB1f",
        "colab_type": "code",
        "colab": {}
      },
      "source": [
        "def predict_func(model , inp , iou , name):\n",
        "\n",
        "    ans = model.predict(inp)\n",
        "    \n",
        "    #np.save('Results/ans.npy',ans)\n",
        "    boxes = decode(ans[0] , img_w , img_h , iou)\n",
        "    \n",
        "    img = ((inp + 1)/2)\n",
        "    img = img[0]\n",
        "    #plt.imshow(img)\n",
        "    #plt.show()\n",
        "\n",
        "\n",
        "    for i in boxes:\n",
        "\n",
        "        i = [int(x) for x in i]\n",
        "\n",
        "        img = cv2.rectangle(img , (i[0] ,i[1]) , (i[2] , i[3]) , color = (0,255,0) , thickness = 2)\n",
        "\n",
        "    plt.imshow(img)\n",
        "    plt.show()\n",
        "    \n",
        "    #cv2.imwrite(os.path.join('Results' , str(name) + '.jpg') , img*255.0)\n",
        "    \n",
        "    "
      ],
      "execution_count": 0,
      "outputs": []
    },
    {
      "cell_type": "code",
      "metadata": {
        "id": "inYsfKrDTHCv",
        "colab_type": "code",
        "colab": {}
      },
      "source": [
        "rand = np.random.randint(0,X_val.shape[0], size = 5)\n",
        "\n",
        "for i in rand:\n",
        "    \n",
        "    predict_func(model , X_val[i:i+1] , 0.5, i)\n",
        "    "
      ],
      "execution_count": 0,
      "outputs": []
    },
    {
      "cell_type": "code",
      "metadata": {
        "id": "F5ppecWcTIz1",
        "colab_type": "code",
        "colab": {}
      },
      "source": [
        "for i in os.listdir('content/drive/My Drive/tt/Test'):\n",
        "    img = cv2.imread(os.path.join('content/drive/My Drive/tt/Test',i))\n",
        "    img = cv2.resize(img,(512,512))\n",
        "    img = (img - 127.5)/127.5\n",
        "    predict_func(model , np.expand_dims(img,axis= 0) , 0.5 , 'sample')"
      ],
      "execution_count": 0,
      "outputs": []
    },
    {
      "cell_type": "code",
      "metadata": {
        "id": "Sbjj8hLUTS_c",
        "colab_type": "code",
        "colab": {}
      },
      "source": [
        ""
      ],
      "execution_count": 0,
      "outputs": []
    }
  ]
}