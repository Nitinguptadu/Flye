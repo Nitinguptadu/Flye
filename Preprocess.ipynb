{
 "cells": [
  {
   "cell_type": "code",
   "execution_count": 1,
   "metadata": {},
   "outputs": [],
   "source": [
    "import numpy as np\n",
    "import pandas as pd\n",
    "import cv2\n",
    "import os\n",
    "import tqdm\n",
    "from scipy.io import loadmat\n",
    "import matplotlib.pyplot as plt\n",
    "\n"
   ]
  },
  {
   "cell_type": "code",
   "execution_count": 2,
   "metadata": {},
   "outputs": [],
   "source": [
    "image_path = 'Data1/images/'\n",
    "gt_path = 'Data1/ground_truth/'\n"
   ]
  },
  {
   "cell_type": "code",
   "execution_count": 3,
   "metadata": {},
   "outputs": [
    {
     "name": "stderr",
     "output_type": "stream",
     "text": [
      "100%|██████████| 6/6 [00:00<00:00, 49344.75it/s]\n"
     ]
    }
   ],
   "source": [
    "train_image_paths = []\n",
    "train_gt_paths = []\n",
    "\n",
    "\n",
    "for new_file in tqdm.tqdm(os.listdir(gt_path)):\n",
    "    \n",
    "    name_split = new_file.split('.')\n",
    "#    image_name = name_split[0][3:]\n",
    "    image_name = name_split[0]\n",
    "    image_name = str(image_name) + '.jpg'\n",
    "    \n",
    "    if 'gt' in new_file:\n",
    "#        image_name = name_split[0][3:]\n",
    "        image_name = name_split[0]\n",
    "        image_name = str(image_name) + '.jpg'\n",
    "    \n",
    "    path_img = os.path.join(image_path , image_name)\n",
    "    train_image_paths.append(path_img)\n",
    "    train_gt_paths.append(os.path.join(gt_path , new_file))\n"
   ]
  },
  {
   "cell_type": "code",
   "execution_count": 4,
   "metadata": {},
   "outputs": [
    {
     "name": "stderr",
     "output_type": "stream",
     "text": [
      "100%|██████████| 6/6 [00:00<00:00, 84.52it/s]"
     ]
    },
    {
     "name": "stdout",
     "output_type": "stream",
     "text": [
      "Data1/images/X51005230616.jpg\n",
      "Data1/ground_truth/X51005230616.txt\n",
      "Data1/ground_truth/X51005230616.txt\n",
      "Data1/ground_truth/X51005230616.txt\n",
      "Data1/images/X00016469671.jpg\n",
      "Data1/ground_truth/X00016469671.txt\n",
      "Data1/ground_truth/X00016469671.txt\n",
      "Data1/ground_truth/X00016469671.txt\n",
      "Data1/images/X51005230621.jpg\n",
      "Data1/ground_truth/X51005230621.txt\n",
      "Data1/ground_truth/X51005230621.txt\n",
      "Data1/ground_truth/X51005230621.txt\n",
      "Data1/images/X51005230605.jpg\n",
      "Data1/ground_truth/X51005230605.txt\n",
      "Data1/ground_truth/X51005230605.txt\n",
      "Data1/ground_truth/X51005230605.txt\n",
      "Data1/images/X00016469670.jpg\n",
      "Data1/ground_truth/X00016469670.txt\n",
      "Data1/ground_truth/X00016469670.txt\n",
      "Data1/ground_truth/X00016469670.txt\n",
      "Data1/images/X51005200931.jpg\n",
      "Data1/ground_truth/X51005200931.txt\n",
      "Data1/ground_truth/X51005200931.txt\n",
      "Data1/ground_truth/X51005200931.txt\n",
      "end\n"
     ]
    },
    {
     "name": "stderr",
     "output_type": "stream",
     "text": [
      "\n"
     ]
    }
   ],
   "source": [
    "X_final = []\n",
    "Y_final = []\n",
    "grid_h = 16\n",
    "grid_w = 16\n",
    "img_w = 512\n",
    "img_h = 512\n",
    "\n",
    "\n",
    "\n",
    "for z in tqdm.tqdm(range(len(train_image_paths))):\n",
    "    \n",
    "    \n",
    "    \n",
    "    \n",
    "    new_file = train_image_paths[z]\n",
    "    print(new_file)\n",
    "    x = cv2.imread(train_image_paths[z])\n",
    "    #print(\"xxxxxxxxxxxx\", x)\n",
    "    try:\n",
    "        x_sl = 512/x.shape[1]\n",
    "        y_sl = 512/x.shape[0]\n",
    "    except:\n",
    "        print( new_file)\n",
    "    \n",
    "    img = cv2.resize(x,(512,512))\n",
    "    \n",
    "    \n",
    "    X_final.append(img)\n",
    "    \n",
    "    #plt.imshow(cv2.imread(new_file))\n",
    "    #plt.show()\n",
    "    \n",
    "    i = \" \"\n",
    "    \n",
    "    if 'img' in new_file:\n",
    "        i = \", \"\n",
    "    \n",
    "    Y = np.zeros((grid_h,grid_w,1,5))\n",
    "    \n",
    "    file = train_gt_paths[z]\n",
    "    name = open(file , 'r')\n",
    "    try:\n",
    "        data = name.read()\n",
    "    except :\n",
    "        print(data)\n",
    "    \n",
    "    \n",
    "    #print(\"111111111111111111\")\n",
    "    print(file)\n",
    "    data = data.split(\"\\n\")\n",
    "    #print(data)\n",
    "#    data = data[1:-1]\n",
    "#    data = ['176 189 456 274 \"DELL\"']\n",
    "   # print(data)\n",
    "    #print(\"@@222222222222222222\")\n",
    "    flag = 0\n",
    "    for li in data:\n",
    "        temp_list = []\n",
    "        file_data = data[flag].rpartition(',')\n",
    "        strr = file_data[2]\n",
    "        bb = file_data[0].split(',')\n",
    "\n",
    "        try:\n",
    "            xmin = int(bb[0])*x_sl\n",
    "            xmax = int(bb[2])*x_sl\n",
    "            ymin = int(bb[1])*y_sl\n",
    "            ymax = int(bb[3])*y_sl\n",
    "        except:\n",
    "            #print(bb[0])\n",
    "            print(train_gt_paths[z])\n",
    "            \n",
    "        #te = cv2.rectangle(img,(int(xmin),int(ymin)),(int(xmax),int(ymax)) , color = (0,255,0))\n",
    "\n",
    "        w = (xmax - xmin)/img_w\n",
    "        h = (ymax - ymin)/img_h\n",
    "\n",
    "        x = ((xmax + xmin)/2)/img_w\n",
    "        y = ((ymax + ymin)/2)/img_h\n",
    "        x = x * grid_w\n",
    "        y = y * grid_h\n",
    "\n",
    "        Y[int(y),int(x),0,0] = 1\n",
    "        Y[int(y),int(x),0,1] = x - int(x)\n",
    "        Y[int(y),int(x),0,2] = y - int(y)\n",
    "        Y[int(y),int(x),0,3] = w\n",
    "        Y[int(y),int(x),0,4] = h\n",
    "        flag = flag + 1\n",
    "    #plt.imshow(te)\n",
    "    #plt.show()\n",
    "    \n",
    "    Y_final.append(Y)\n",
    "    \n",
    "X = np.array(X_final)\n",
    "X_final = []\n",
    "Y = np.array(Y_final)\n",
    "Y_final = []\n",
    "\n",
    "flag1 = 0\n",
    "try:\n",
    "    X = (X - 127.5)/127.5\n",
    "except:\n",
    "    print(\"ERRORRRRRRRRRRRRRRRRRRRRRRRRRRRRRRR\")\n",
    "    print(X)\n",
    "\n",
    "\n",
    "np.save('Data1/X.npy',X)\n",
    "np.save('Data1/Y.npy',Y)\n",
    "\n",
    "print(\"end\")\n",
    "\n"
   ]
  },
  {
   "cell_type": "code",
   "execution_count": null,
   "metadata": {},
   "outputs": [],
   "source": []
  }
 ],
 "metadata": {
  "kernelspec": {
   "display_name": "Python 3",
   "language": "python",
   "name": "python3"
  },
  "language_info": {
   "codemirror_mode": {
    "name": "ipython",
    "version": 3
   },
   "file_extension": ".py",
   "mimetype": "text/x-python",
   "name": "python",
   "nbconvert_exporter": "python",
   "pygments_lexer": "ipython3",
   "version": "3.7.5"
  }
 },
 "nbformat": 4,
 "nbformat_minor": 2
}
